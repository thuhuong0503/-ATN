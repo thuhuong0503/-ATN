{
  "nbformat": 4,
  "nbformat_minor": 0,
  "metadata": {
    "colab": {
      "provenance": [],
      "authorship_tag": "ABX9TyPhVw/ULpRopLsAP1uPzx7d",
      "include_colab_link": true
    },
    "kernelspec": {
      "name": "python3",
      "display_name": "Python 3"
    },
    "language_info": {
      "name": "python"
    }
  },
  "cells": [
    {
      "cell_type": "markdown",
      "metadata": {
        "id": "view-in-github",
        "colab_type": "text"
      },
      "source": [
        "<a href=\"https://colab.research.google.com/github/thuhuong0503/DATN/blob/main/Getting_data.ipynb\" target=\"_parent\"><img src=\"https://colab.research.google.com/assets/colab-badge.svg\" alt=\"Open In Colab\"/></a>"
      ]
    },
    {
      "cell_type": "code",
      "execution_count": null,
      "metadata": {
        "colab": {
          "base_uri": "https://localhost:8080/"
        },
        "id": "oI_QxgrrK-DY",
        "outputId": "5ab4d912-0b93-4f5c-8131-797890c03034"
      },
      "outputs": [
        {
          "output_type": "stream",
          "name": "stdout",
          "text": [
            "--2023-03-27 14:34:31--  https://github.com/PacktPublishing/Machine-Learning-for-Cybersecurity-Cookbook/raw/master/PE%20Samples%20Dataset/Benign%20PE%20Samples%202.7z\n",
            "Resolving github.com (github.com)... 140.82.114.4\n",
            "Connecting to github.com (github.com)|140.82.114.4|:443... connected.\n",
            "HTTP request sent, awaiting response... 302 Found\n",
            "Location: https://raw.githubusercontent.com/PacktPublishing/Machine-Learning-for-Cybersecurity-Cookbook/master/PE%20Samples%20Dataset/Benign%20PE%20Samples%202.7z [following]\n",
            "--2023-03-27 14:34:31--  https://raw.githubusercontent.com/PacktPublishing/Machine-Learning-for-Cybersecurity-Cookbook/master/PE%20Samples%20Dataset/Benign%20PE%20Samples%202.7z\n",
            "Resolving raw.githubusercontent.com (raw.githubusercontent.com)... 185.199.108.133, 185.199.109.133, 185.199.110.133, ...\n",
            "Connecting to raw.githubusercontent.com (raw.githubusercontent.com)|185.199.108.133|:443... connected.\n",
            "HTTP request sent, awaiting response... 200 OK\n",
            "Length: 5759122 (5.5M) [application/octet-stream]\n",
            "Saving to: ‘Benign PE Samples 2.7z.1’\n",
            "\n",
            "\rBenign PE Samples 2   0%[                    ]       0  --.-KB/s               \rBenign PE Samples 2 100%[===================>]   5.49M  --.-KB/s    in 0.02s   \n",
            "\n",
            "2023-03-27 14:34:31 (242 MB/s) - ‘Benign PE Samples 2.7z.1’ saved [5759122/5759122]\n",
            "\n",
            "--2023-03-27 14:34:31--  https://github.com/PacktPublishing/Machine-Learning-for-Cybersecurity-Cookbook/raw/master/PE%20Samples%20Dataset/Benign%20PE%20Samples%203.7z\n",
            "Resolving github.com (github.com)... 140.82.112.4\n",
            "Connecting to github.com (github.com)|140.82.112.4|:443... connected.\n",
            "HTTP request sent, awaiting response... 302 Found\n",
            "Location: https://raw.githubusercontent.com/PacktPublishing/Machine-Learning-for-Cybersecurity-Cookbook/master/PE%20Samples%20Dataset/Benign%20PE%20Samples%203.7z [following]\n",
            "--2023-03-27 14:34:31--  https://raw.githubusercontent.com/PacktPublishing/Machine-Learning-for-Cybersecurity-Cookbook/master/PE%20Samples%20Dataset/Benign%20PE%20Samples%203.7z\n",
            "Resolving raw.githubusercontent.com (raw.githubusercontent.com)... 185.199.108.133, 185.199.109.133, 185.199.110.133, ...\n",
            "Connecting to raw.githubusercontent.com (raw.githubusercontent.com)|185.199.108.133|:443... connected.\n",
            "HTTP request sent, awaiting response... 200 OK\n",
            "Length: 6295109 (6.0M) [application/octet-stream]\n",
            "Saving to: ‘Benign PE Samples 3.7z.1’\n",
            "\n",
            "Benign PE Samples 3 100%[===================>]   6.00M  --.-KB/s    in 0.02s   \n",
            "\n",
            "2023-03-27 14:34:31 (310 MB/s) - ‘Benign PE Samples 3.7z.1’ saved [6295109/6295109]\n",
            "\n",
            "--2023-03-27 14:34:31--  https://github.com/PacktPublishing/Machine-Learning-for-Cybersecurity-Cookbook/raw/master/PE%20Samples%20Dataset/Benign%20PE%20Samples%204.7z\n",
            "Resolving github.com (github.com)... 140.82.112.4\n",
            "Connecting to github.com (github.com)|140.82.112.4|:443... connected.\n",
            "HTTP request sent, awaiting response... 302 Found\n",
            "Location: https://raw.githubusercontent.com/PacktPublishing/Machine-Learning-for-Cybersecurity-Cookbook/master/PE%20Samples%20Dataset/Benign%20PE%20Samples%204.7z [following]\n",
            "--2023-03-27 14:34:32--  https://raw.githubusercontent.com/PacktPublishing/Machine-Learning-for-Cybersecurity-Cookbook/master/PE%20Samples%20Dataset/Benign%20PE%20Samples%204.7z\n",
            "Resolving raw.githubusercontent.com (raw.githubusercontent.com)... 185.199.108.133, 185.199.109.133, 185.199.110.133, ...\n",
            "Connecting to raw.githubusercontent.com (raw.githubusercontent.com)|185.199.108.133|:443... connected.\n",
            "HTTP request sent, awaiting response... 200 OK\n",
            "Length: 3782229 (3.6M) [application/octet-stream]\n",
            "Saving to: ‘Benign PE Samples 4.7z.1’\n",
            "\n",
            "Benign PE Samples 4 100%[===================>]   3.61M  --.-KB/s    in 0.01s   \n",
            "\n",
            "2023-03-27 14:34:32 (254 MB/s) - ‘Benign PE Samples 4.7z.1’ saved [3782229/3782229]\n",
            "\n",
            "--2023-03-27 14:34:32--  https://github.com/PacktPublishing/Machine-Learning-for-Cybersecurity-Cookbook/raw/master/PE%20Samples%20Dataset/Benign%20PE%20Samples%205.7z\n",
            "Resolving github.com (github.com)... 140.82.112.4\n",
            "Connecting to github.com (github.com)|140.82.112.4|:443... connected.\n",
            "HTTP request sent, awaiting response... 302 Found\n",
            "Location: https://raw.githubusercontent.com/PacktPublishing/Machine-Learning-for-Cybersecurity-Cookbook/master/PE%20Samples%20Dataset/Benign%20PE%20Samples%205.7z [following]\n",
            "--2023-03-27 14:34:32--  https://raw.githubusercontent.com/PacktPublishing/Machine-Learning-for-Cybersecurity-Cookbook/master/PE%20Samples%20Dataset/Benign%20PE%20Samples%205.7z\n",
            "Resolving raw.githubusercontent.com (raw.githubusercontent.com)... 185.199.108.133, 185.199.109.133, 185.199.110.133, ...\n",
            "Connecting to raw.githubusercontent.com (raw.githubusercontent.com)|185.199.108.133|:443... connected.\n",
            "HTTP request sent, awaiting response... 200 OK\n",
            "Length: 3144984 (3.0M) [application/octet-stream]\n",
            "Saving to: ‘Benign PE Samples 5.7z.1’\n",
            "\n",
            "Benign PE Samples 5 100%[===================>]   3.00M  --.-KB/s    in 0.01s   \n",
            "\n",
            "2023-03-27 14:34:32 (232 MB/s) - ‘Benign PE Samples 5.7z.1’ saved [3144984/3144984]\n",
            "\n",
            "--2023-03-27 14:34:33--  https://github.com/PacktPublishing/Machine-Learning-for-Cybersecurity-Cookbook/raw/master/PE%20Samples%20Dataset/Benign%20PE%20Samples%206.7z\n",
            "Resolving github.com (github.com)... 140.82.112.4\n",
            "Connecting to github.com (github.com)|140.82.112.4|:443... connected.\n",
            "HTTP request sent, awaiting response... 302 Found\n",
            "Location: https://raw.githubusercontent.com/PacktPublishing/Machine-Learning-for-Cybersecurity-Cookbook/master/PE%20Samples%20Dataset/Benign%20PE%20Samples%206.7z [following]\n",
            "--2023-03-27 14:34:33--  https://raw.githubusercontent.com/PacktPublishing/Machine-Learning-for-Cybersecurity-Cookbook/master/PE%20Samples%20Dataset/Benign%20PE%20Samples%206.7z\n",
            "Resolving raw.githubusercontent.com (raw.githubusercontent.com)... 185.199.109.133, 185.199.110.133, 185.199.108.133, ...\n",
            "Connecting to raw.githubusercontent.com (raw.githubusercontent.com)|185.199.109.133|:443... connected.\n",
            "HTTP request sent, awaiting response... 200 OK\n",
            "Length: 4802968 (4.6M) [application/octet-stream]\n",
            "Saving to: ‘Benign PE Samples 6.7z.1’\n",
            "\n",
            "Benign PE Samples 6 100%[===================>]   4.58M  --.-KB/s    in 0.02s   \n",
            "\n",
            "2023-03-27 14:34:33 (293 MB/s) - ‘Benign PE Samples 6.7z.1’ saved [4802968/4802968]\n",
            "\n",
            "--2023-03-27 14:34:33--  https://github.com/PacktPublishing/Machine-Learning-for-Cybersecurity-Cookbook/raw/master/PE%20Samples%20Dataset/Malicious%20PE%20Samples%201.7z\n",
            "Resolving github.com (github.com)... 140.82.112.4\n",
            "Connecting to github.com (github.com)|140.82.112.4|:443... connected.\n",
            "HTTP request sent, awaiting response... 302 Found\n",
            "Location: https://raw.githubusercontent.com/PacktPublishing/Machine-Learning-for-Cybersecurity-Cookbook/master/PE%20Samples%20Dataset/Malicious%20PE%20Samples%201.7z [following]\n",
            "--2023-03-27 14:34:33--  https://raw.githubusercontent.com/PacktPublishing/Machine-Learning-for-Cybersecurity-Cookbook/master/PE%20Samples%20Dataset/Malicious%20PE%20Samples%201.7z\n",
            "Resolving raw.githubusercontent.com (raw.githubusercontent.com)... 185.199.108.133, 185.199.109.133, 185.199.110.133, ...\n",
            "Connecting to raw.githubusercontent.com (raw.githubusercontent.com)|185.199.108.133|:443... connected.\n",
            "HTTP request sent, awaiting response... 200 OK\n",
            "Length: 23934383 (23M) [application/octet-stream]\n",
            "Saving to: ‘Malicious PE Samples 1.7z.1’\n",
            "\n",
            "Malicious PE Sample 100%[===================>]  22.83M  --.-KB/s    in 0.07s   \n",
            "\n",
            "2023-03-27 14:34:33 (309 MB/s) - ‘Malicious PE Samples 1.7z.1’ saved [23934383/23934383]\n",
            "\n",
            "--2023-03-27 14:34:34--  https://github.com/PacktPublishing/Machine-Learning-for-Cybersecurity-Cookbook/raw/master/PE%20Samples%20Dataset/Malicious%20PE%20Samples%202.7z\n",
            "Resolving github.com (github.com)... 140.82.112.4\n",
            "Connecting to github.com (github.com)|140.82.112.4|:443... connected.\n",
            "HTTP request sent, awaiting response... 302 Found\n",
            "Location: https://raw.githubusercontent.com/PacktPublishing/Machine-Learning-for-Cybersecurity-Cookbook/master/PE%20Samples%20Dataset/Malicious%20PE%20Samples%202.7z [following]\n",
            "--2023-03-27 14:34:34--  https://raw.githubusercontent.com/PacktPublishing/Machine-Learning-for-Cybersecurity-Cookbook/master/PE%20Samples%20Dataset/Malicious%20PE%20Samples%202.7z\n",
            "Resolving raw.githubusercontent.com (raw.githubusercontent.com)... 185.199.108.133, 185.199.109.133, 185.199.110.133, ...\n",
            "Connecting to raw.githubusercontent.com (raw.githubusercontent.com)|185.199.108.133|:443... connected.\n",
            "HTTP request sent, awaiting response... 200 OK\n",
            "Length: 11392107 (11M) [application/octet-stream]\n",
            "Saving to: ‘Malicious PE Samples 2.7z.1’\n",
            "\n",
            "Malicious PE Sample 100%[===================>]  10.86M  --.-KB/s    in 0.04s   \n",
            "\n",
            "2023-03-27 14:34:34 (302 MB/s) - ‘Malicious PE Samples 2.7z.1’ saved [11392107/11392107]\n",
            "\n"
          ]
        }
      ],
      "source": [
        "!wget https://github.com/PacktPublishing/Machine-Learning-for-Cybersecurity-Cookbook/raw/master/PE%20Samples%20Dataset/Benign%20PE%20Samples%202.7z\n",
        "!wget https://github.com/PacktPublishing/Machine-Learning-for-Cybersecurity-Cookbook/raw/master/PE%20Samples%20Dataset/Benign%20PE%20Samples%203.7z\n",
        "!wget https://github.com/PacktPublishing/Machine-Learning-for-Cybersecurity-Cookbook/raw/master/PE%20Samples%20Dataset/Benign%20PE%20Samples%204.7z\n",
        "!wget https://github.com/PacktPublishing/Machine-Learning-for-Cybersecurity-Cookbook/raw/master/PE%20Samples%20Dataset/Benign%20PE%20Samples%205.7z\n",
        "!wget https://github.com/PacktPublishing/Machine-Learning-for-Cybersecurity-Cookbook/raw/master/PE%20Samples%20Dataset/Benign%20PE%20Samples%206.7z\n",
        "!wget https://github.com/PacktPublishing/Machine-Learning-for-Cybersecurity-Cookbook/raw/master/PE%20Samples%20Dataset/Malicious%20PE%20Samples%201.7z\n",
        "!wget https://github.com/PacktPublishing/Machine-Learning-for-Cybersecurity-Cookbook/raw/master/PE%20Samples%20Dataset/Malicious%20PE%20Samples%202.7z"
      ]
    },
    {
      "cell_type": "code",
      "source": [
        "!dir"
      ],
      "metadata": {
        "colab": {
          "base_uri": "https://localhost:8080/"
        },
        "id": "7mWxaN5ELWwL",
        "outputId": "dc0a1a01-edb0-4bbf-e85d-16c795ae3801"
      },
      "execution_count": null,
      "outputs": [
        {
          "output_type": "stream",
          "name": "stdout",
          "text": [
            "Benign_PE_samples\t     Benign\\ PE\\ Samples\\ 6.7z\n",
            "Benign\\ PE\\ Samples\\ 2.7z    Benign\\ PE\\ Samples\\ 6.7z.1\n",
            "Benign\\ PE\\ Samples\\ 2.7z.1  Malicious_PE_samples\n",
            "Benign\\ PE\\ Samples\\ 3.7z    Malicious\\ PE\\ Samples\\ 1.7z\n",
            "Benign\\ PE\\ Samples\\ 3.7z.1  Malicious\\ PE\\ Samples\\ 1.7z.1\n",
            "Benign\\ PE\\ Samples\\ 4.7z    Malicious\\ PE\\ Samples\\ 2.7z\n",
            "Benign\\ PE\\ Samples\\ 4.7z.1  Malicious\\ PE\\ Samples\\ 2.7z.1\n",
            "Benign\\ PE\\ Samples\\ 5.7z    sample_data\n",
            "Benign\\ PE\\ Samples\\ 5.7z.1\n"
          ]
        }
      ]
    },
    {
      "cell_type": "code",
      "source": [
        "!apt install p7zip-full p7zip-rar -y "
      ],
      "metadata": {
        "colab": {
          "base_uri": "https://localhost:8080/"
        },
        "id": "1NEn7CBfLb_a",
        "outputId": "596eec95-07ae-4f66-de11-017903917fe5"
      },
      "execution_count": null,
      "outputs": [
        {
          "output_type": "stream",
          "name": "stdout",
          "text": [
            "Reading package lists... Done\n",
            "Building dependency tree       \n",
            "Reading state information... Done\n",
            "p7zip-full is already the newest version (16.02+dfsg-7build1).\n",
            "p7zip-rar is already the newest version (16.02-3build1).\n",
            "0 upgraded, 0 newly installed, 0 to remove and 23 not upgraded.\n"
          ]
        }
      ]
    },
    {
      "cell_type": "code",
      "source": [
        "!mkdir Benign_PE_samples\n",
        "!mkdir Malicious_PE_samples"
      ],
      "metadata": {
        "id": "tDDeaq_BS_Pi",
        "colab": {
          "base_uri": "https://localhost:8080/"
        },
        "outputId": "5b4120c3-aaa1-4d1b-e506-d86e243c7272"
      },
      "execution_count": null,
      "outputs": [
        {
          "output_type": "stream",
          "name": "stdout",
          "text": [
            "mkdir: cannot create directory ‘Benign_PE_samples’: File exists\n",
            "mkdir: cannot create directory ‘Malicious_PE_samples’: File exists\n"
          ]
        }
      ]
    },
    {
      "cell_type": "code",
      "source": [
        "%cd Benign_PE_samples/"
      ],
      "metadata": {
        "colab": {
          "base_uri": "https://localhost:8080/"
        },
        "id": "60ufh8CNTGDg",
        "outputId": "6bfe33ca-fefc-4d43-e790-2493933c8836"
      },
      "execution_count": null,
      "outputs": [
        {
          "output_type": "stream",
          "name": "stdout",
          "text": [
            "/content/Benign_PE_samples\n"
          ]
        }
      ]
    },
    {
      "cell_type": "code",
      "source": [
        "for i in range(1,7):\n",
        "  !7z e -y ../Benign\\ PE\\ Samples\\ {i}.7z \n",
        "  #giải nén tệp PE không chứa mã độc"
      ],
      "metadata": {
        "colab": {
          "base_uri": "https://localhost:8080/"
        },
        "id": "CjDSRf14THpY",
        "outputId": "9e24bf04-242f-44a3-deb0-e3247516dbfb"
      },
      "execution_count": null,
      "outputs": [
        {
          "output_type": "stream",
          "name": "stdout",
          "text": [
            "\n",
            "7-Zip [64] 16.02 : Copyright (c) 1999-2016 Igor Pavlov : 2016-05-21\n",
            "p7zip Version 16.02 (locale=en_US.UTF-8,Utf16=on,HugeFiles=on,64 bits,2 CPUs Intel(R) Xeon(R) CPU @ 2.20GHz (406F0),ASM,AES-NI)\n",
            "\n",
            "Scanning the drive for archives:\n",
            "  0M Scan ../\b\b\b\b\b\b\b\b\b\b\b\b\b             \b\b\b\b\b\b\b\b\b\b\b\b\b\n",
            "ERROR: No more files\n",
            "../Benign PE Samples 1.7z\n",
            "\n",
            "\n",
            "\n",
            "System ERROR:\n",
            "Unknown error -2147024872\n",
            "\n",
            "7-Zip [64] 16.02 : Copyright (c) 1999-2016 Igor Pavlov : 2016-05-21\n",
            "p7zip Version 16.02 (locale=en_US.UTF-8,Utf16=on,HugeFiles=on,64 bits,2 CPUs Intel(R) Xeon(R) CPU @ 2.20GHz (406F0),ASM,AES-NI)\n",
            "\n",
            "Scanning the drive for archives:\n",
            "  0M Scan ../\b\b\b\b\b\b\b\b\b\b\b\b\b             \b\b\b\b\b\b\b\b\b\b\b\b\b1 file, 5759122 bytes (5625 KiB)\n",
            "\n",
            "Extracting archive: ../Benign PE Samples 2.7z\n",
            "--\n",
            "Path = ../Benign PE Samples 2.7z\n",
            "Type = 7z\n",
            "Physical Size = 5759122\n",
            "Headers Size = 2005\n",
            "Method = LZMA2:24 BCJ\n",
            "Solid = +\n",
            "Blocks = 1\n",
            "\n",
            "  0%\b\b\b\b    \b\b\b\b 24% 24 - Benign PE Samples 2/cmmon32.exe\b\b\b\b\b\b\b\b\b\b\b\b\b\b\b\b\b\b\b\b\b\b\b\b\b\b\b\b\b\b\b\b\b\b\b\b\b\b\b\b\b                                         \b\b\b\b\b\b\b\b\b\b\b\b\b\b\b\b\b\b\b\b\b\b\b\b\b\b\b\b\b\b\b\b\b\b\b\b\b\b\b\b\b 51% 46 - Benign PE Samples 2/cscript.exe\b\b\b\b\b\b\b\b\b\b\b\b\b\b\b\b\b\b\b\b\b\b\b\b\b\b\b\b\b\b\b\b\b\b\b\b\b\b\b\b\b                                         \b\b\b\b\b\b\b\b\b\b\b\b\b\b\b\b\b\b\b\b\b\b\b\b\b\b\b\b\b\b\b\b\b\b\b\b\b\b\b\b\b 82% 82 - Benign PE Samples 2/DismHost.exe\b\b\b\b\b\b\b\b\b\b\b\b\b\b\b\b\b\b\b\b\b\b\b\b\b\b\b\b\b\b\b\b\b\b\b\b\b\b\b\b\b\b                                          \b\b\b\b\b\b\b\b\b\b\b\b\b\b\b\b\b\b\b\b\b\b\b\b\b\b\b\b\b\b\b\b\b\b\b\b\b\b\b\b\b\bEverything is Ok\n",
            "\n",
            "Folders: 1\n",
            "Files: 97\n",
            "Size:       17177931\n",
            "Compressed: 5759122\n",
            "\n",
            "7-Zip [64] 16.02 : Copyright (c) 1999-2016 Igor Pavlov : 2016-05-21\n",
            "p7zip Version 16.02 (locale=en_US.UTF-8,Utf16=on,HugeFiles=on,64 bits,2 CPUs Intel(R) Xeon(R) CPU @ 2.20GHz (406F0),ASM,AES-NI)\n",
            "\n",
            "Scanning the drive for archives:\n",
            "  0M Scan ../\b\b\b\b\b\b\b\b\b\b\b\b\b             \b\b\b\b\b\b\b\b\b\b\b\b\b1 file, 6295109 bytes (6148 KiB)\n",
            "\n",
            "Extracting archive: ../Benign PE Samples 3.7z\n",
            "--\n",
            "Path = ../Benign PE Samples 3.7z\n",
            "Type = 7z\n",
            "Physical Size = 6295109\n",
            "Headers Size = 1224\n",
            "Method = LZMA2:24 BCJ\n",
            "Solid = +\n",
            "Blocks = 1\n",
            "\n",
            "  0%\b\b\b\b    \b\b\b\b 27% 13 - Benign PE Samples 3/FlashUtil_ActiveX.exe\b\b\b\b\b\b\b\b\b\b\b\b\b\b\b\b\b\b\b\b\b\b\b\b\b\b\b\b\b\b\b\b\b\b\b\b\b\b\b\b\b\b\b\b\b\b\b\b\b\b\b                                                   \b\b\b\b\b\b\b\b\b\b\b\b\b\b\b\b\b\b\b\b\b\b\b\b\b\b\b\b\b\b\b\b\b\b\b\b\b\b\b\b\b\b\b\b\b\b\b\b\b\b\b 57% 31 - Benign PE Samples 3/GameBar.exe\b\b\b\b\b\b\b\b\b\b\b\b\b\b\b\b\b\b\b\b\b\b\b\b\b\b\b\b\b\b\b\b\b\b\b\b\b\b\b\b\b                                         \b\b\b\b\b\b\b\b\b\b\b\b\b\b\b\b\b\b\b\b\b\b\b\b\b\b\b\b\b\b\b\b\b\b\b\b\b\b\b\b\b 79% 42 - Benign PE Samples 3/hdwwiz.exe\b\b\b\b\b\b\b\b\b\b\b\b\b\b\b\b\b\b\b\b\b\b\b\b\b\b\b\b\b\b\b\b\b\b\b\b\b\b\b\b                                        \b\b\b\b\b\b\b\b\b\b\b\b\b\b\b\b\b\b\b\b\b\b\b\b\b\b\b\b\b\b\b\b\b\b\b\b\b\b\b\bEverything is Ok\n",
            "\n",
            "Folders: 1\n",
            "Files: 51\n",
            "Size:       21010393\n",
            "Compressed: 6295109\n",
            "\n",
            "7-Zip [64] 16.02 : Copyright (c) 1999-2016 Igor Pavlov : 2016-05-21\n",
            "p7zip Version 16.02 (locale=en_US.UTF-8,Utf16=on,HugeFiles=on,64 bits,2 CPUs Intel(R) Xeon(R) CPU @ 2.20GHz (406F0),ASM,AES-NI)\n",
            "\n",
            "Scanning the drive for archives:\n",
            "  0M Scan ../\b\b\b\b\b\b\b\b\b\b\b\b\b             \b\b\b\b\b\b\b\b\b\b\b\b\b1 file, 3782229 bytes (3694 KiB)\n",
            "\n",
            "Extracting archive: ../Benign PE Samples 4.7z\n",
            "--\n",
            "Path = ../Benign PE Samples 4.7z\n",
            "Type = 7z\n",
            "Physical Size = 3782229\n",
            "Headers Size = 1182\n",
            "Method = LZMA2:12m BCJ\n",
            "Solid = +\n",
            "Blocks = 1\n",
            "\n",
            "  0%\b\b\b\b    \b\b\b\b 43% 24 - Benign PE Samples 4/Eap3Host.exe\b\b\b\b\b\b\b\b\b\b\b\b\b\b\b\b\b\b\b\b\b\b\b\b\b\b\b\b\b\b\b\b\b\b\b\b\b\b\b\b\b\b                                          \b\b\b\b\b\b\b\b\b\b\b\b\b\b\b\b\b\b\b\b\b\b\b\b\b\b\b\b\b\b\b\b\b\b\b\b\b\b\b\b\b\b 90% 43 - Benign PE Samples 4/explorer.exe\b\b\b\b\b\b\b\b\b\b\b\b\b\b\b\b\b\b\b\b\b\b\b\b\b\b\b\b\b\b\b\b\b\b\b\b\b\b\b\b\b\b                                          \b\b\b\b\b\b\b\b\b\b\b\b\b\b\b\b\b\b\b\b\b\b\b\b\b\b\b\b\b\b\b\b\b\b\b\b\b\b\b\b\b\bEverything is Ok\n",
            "\n",
            "Folders: 1\n",
            "Files: 46\n",
            "Size:       10973411\n",
            "Compressed: 3782229\n",
            "\n",
            "7-Zip [64] 16.02 : Copyright (c) 1999-2016 Igor Pavlov : 2016-05-21\n",
            "p7zip Version 16.02 (locale=en_US.UTF-8,Utf16=on,HugeFiles=on,64 bits,2 CPUs Intel(R) Xeon(R) CPU @ 2.20GHz (406F0),ASM,AES-NI)\n",
            "\n",
            "Scanning the drive for archives:\n",
            "  0M Scan ../\b\b\b\b\b\b\b\b\b\b\b\b\b             \b\b\b\b\b\b\b\b\b\b\b\b\b1 file, 3144984 bytes (3072 KiB)\n",
            "\n",
            "Extracting archive: ../Benign PE Samples 5.7z\n",
            "--\n",
            "Path = ../Benign PE Samples 5.7z\n",
            "Type = 7z\n",
            "Physical Size = 3144984\n",
            "Headers Size = 1165\n",
            "Method = LZMA2:24 BCJ\n",
            "Solid = +\n",
            "Blocks = 1\n",
            "\n",
            "  0%\b\b\b\b    \b\b\b\b 48% 29 - Benign PE Samples 5/Calculator.exe\b\b\b\b\b\b\b\b\b\b\b\b\b\b\b\b\b\b\b\b\b\b\b\b\b\b\b\b\b\b\b\b\b\b\b\b\b\b\b\b\b\b\b\b                                            \b\b\b\b\b\b\b\b\b\b\b\b\b\b\b\b\b\b\b\b\b\b\b\b\b\b\b\b\b\b\b\b\b\b\b\b\b\b\b\b\b\b\b\b 85% 38 - Benign PE Samples 5/certutil.exe\b\b\b\b\b\b\b\b\b\b\b\b\b\b\b\b\b\b\b\b\b\b\b\b\b\b\b\b\b\b\b\b\b\b\b\b\b\b\b\b\b\b                                          \b\b\b\b\b\b\b\b\b\b\b\b\b\b\b\b\b\b\b\b\b\b\b\b\b\b\b\b\b\b\b\b\b\b\b\b\b\b\b\b\b\bEverything is Ok\n",
            "\n",
            "Folders: 1\n",
            "Files: 45\n",
            "Size:       12933478\n",
            "Compressed: 3144984\n",
            "\n",
            "7-Zip [64] 16.02 : Copyright (c) 1999-2016 Igor Pavlov : 2016-05-21\n",
            "p7zip Version 16.02 (locale=en_US.UTF-8,Utf16=on,HugeFiles=on,64 bits,2 CPUs Intel(R) Xeon(R) CPU @ 2.20GHz (406F0),ASM,AES-NI)\n",
            "\n",
            "Scanning the drive for archives:\n",
            "  0M Scan ../\b\b\b\b\b\b\b\b\b\b\b\b\b             \b\b\b\b\b\b\b\b\b\b\b\b\b1 file, 4802968 bytes (4691 KiB)\n",
            "\n",
            "Extracting archive: ../Benign PE Samples 6.7z\n",
            "--\n",
            "Path = ../Benign PE Samples 6.7z\n",
            "Type = 7z\n",
            "Physical Size = 4802968\n",
            "Headers Size = 1312\n",
            "Method = LZMA2:24 BCJ\n",
            "Solid = +\n",
            "Blocks = 1\n",
            "\n",
            "  0%\b\b\b\b    \b\b\b\b 36% 15 - Benign PE Samples 6/AppInstaller.exe\b\b\b\b\b\b\b\b\b\b\b\b\b\b\b\b\b\b\b\b\b\b\b\b\b\b\b\b\b\b\b\b\b\b\b\b\b\b\b\b\b\b\b\b\b\b                                              \b\b\b\b\b\b\b\b\b\b\b\b\b\b\b\b\b\b\b\b\b\b\b\b\b\b\b\b\b\b\b\b\b\b\b\b\b\b\b\b\b\b\b\b\b\b 87% 44 - Benign PE Samples 6/autochk.exe\b\b\b\b\b\b\b\b\b\b\b\b\b\b\b\b\b\b\b\b\b\b\b\b\b\b\b\b\b\b\b\b\b\b\b\b\b\b\b\b\b                                         \b\b\b\b\b\b\b\b\b\b\b\b\b\b\b\b\b\b\b\b\b\b\b\b\b\b\b\b\b\b\b\b\b\b\b\b\b\b\b\b\bEverything is Ok\n",
            "\n",
            "Folders: 1\n",
            "Files: 50\n",
            "Size:       17383594\n",
            "Compressed: 4802968\n"
          ]
        }
      ]
    },
    {
      "cell_type": "code",
      "source": [
        "%cd ../Malicious_PE_samples/"
      ],
      "metadata": {
        "colab": {
          "base_uri": "https://localhost:8080/"
        },
        "id": "71X0sj5dTMiA",
        "outputId": "16978416-4f8b-4d0f-ebc8-8c1532469de5"
      },
      "execution_count": null,
      "outputs": [
        {
          "output_type": "stream",
          "name": "stdout",
          "text": [
            "/content/Malicious_PE_samples\n"
          ]
        }
      ]
    },
    {
      "cell_type": "code",
      "source": [
        "for i in range(1,3):\n",
        "  !7z e -y ../Malicious\\ PE\\ Samples\\ {i}.7z -pinfected"
      ],
      "metadata": {
        "colab": {
          "base_uri": "https://localhost:8080/"
        },
        "id": "ThnxUu3DTQkw",
        "outputId": "e925e484-63e4-4d3e-a3b6-68454284aaf4"
      },
      "execution_count": null,
      "outputs": [
        {
          "output_type": "stream",
          "name": "stdout",
          "text": [
            "\n",
            "7-Zip [64] 16.02 : Copyright (c) 1999-2016 Igor Pavlov : 2016-05-21\n",
            "p7zip Version 16.02 (locale=en_US.UTF-8,Utf16=on,HugeFiles=on,64 bits,2 CPUs Intel(R) Xeon(R) CPU @ 2.20GHz (406F0),ASM,AES-NI)\n",
            "\n",
            "Scanning the drive for archives:\n",
            "  0M Scan ../\b\b\b\b\b\b\b\b\b\b\b\b\b             \b\b\b\b\b\b\b\b\b\b\b\b\b1 file, 23934383 bytes (23 MiB)\n",
            "\n",
            "Extracting archive: ../Malicious PE Samples 1.7z\n",
            "--\n",
            "Path = ../Malicious PE Samples 1.7z\n",
            "Type = 7z\n",
            "Physical Size = 23934383\n",
            "Headers Size = 959\n",
            "Method = LZMA2:24 BCJ 7zAES\n",
            "Solid = +\n",
            "Blocks = 1\n",
            "\n",
            "  0%\b\b\b\b    \b\b\b\b 17% 5 - Malicious PE Samples 1/InstallBC201401.exe\b\b\b\b\b\b\b\b\b\b\b\b\b\b\b\b\b\b\b\b\b\b\b\b\b\b\b\b\b\b\b\b\b\b\b\b\b\b\b\b\b\b\b\b\b\b\b\b\b\b\b                                                   \b\b\b\b\b\b\b\b\b\b\b\b\b\b\b\b\b\b\b\b\b\b\b\b\b\b\b\b\b\b\b\b\b\b\b\b\b\b\b\b\b\b\b\b\b\b\b\b\b\b\b 73% 18 - Malicious PE Samples 1/Win32.AgentTesla.exe\b\b\b\b\b\b\b\b\b\b\b\b\b\b\b\b\b\b\b\b\b\b\b\b\b\b\b\b\b\b\b\b\b\b\b\b\b\b\b\b\b\b\b\b\b\b\b\b\b\b\b\b\b                                                     \b\b\b\b\b\b\b\b\b\b\b\b\b\b\b\b\b\b\b\b\b\b\b\b\b\b\b\b\b\b\b\b\b\b\b\b\b\b\b\b\b\b\b\b\b\b\b\b\b\b\b\b\bEverything is Ok\n",
            "\n",
            "Folders: 1\n",
            "Files: 26\n",
            "Size:       30470108\n",
            "Compressed: 23934383\n",
            "\n",
            "7-Zip [64] 16.02 : Copyright (c) 1999-2016 Igor Pavlov : 2016-05-21\n",
            "p7zip Version 16.02 (locale=en_US.UTF-8,Utf16=on,HugeFiles=on,64 bits,2 CPUs Intel(R) Xeon(R) CPU @ 2.20GHz (406F0),ASM,AES-NI)\n",
            "\n",
            "Scanning the drive for archives:\n",
            "  0M Scan ../\b\b\b\b\b\b\b\b\b\b\b\b\b             \b\b\b\b\b\b\b\b\b\b\b\b\b1 file, 11392107 bytes (11 MiB)\n",
            "\n",
            "Extracting archive: ../Malicious PE Samples 2.7z\n",
            "--\n",
            "Path = ../Malicious PE Samples 2.7z\n",
            "Type = 7z\n",
            "Physical Size = 11392107\n",
            "Headers Size = 875\n",
            "Method = LZMA2:24 BCJ 7zAES\n",
            "Solid = +\n",
            "Blocks = 1\n",
            "\n",
            "  0%\b\b\b\b    \b\b\b\b 30% 9 - Malicious PE Samples 2/7ZipSetup.exe\b\b\b\b\b\b\b\b\b\b\b\b\b\b\b\b\b\b\b\b\b\b\b\b\b\b\b\b\b\b\b\b\b\b\b\b\b\b\b\b\b\b\b\b\b                                             \b\b\b\b\b\b\b\b\b\b\b\b\b\b\b\b\b\b\b\b\b\b\b\b\b\b\b\b\b\b\b\b\b\b\b\b\b\b\b\b\b\b\b\b\b 86% 20 - Malicious PE Samples 2/gchrome.exe\b\b\b\b\b\b\b\b\b\b\b\b\b\b\b\b\b\b\b\b\b\b\b\b\b\b\b\b\b\b\b\b\b\b\b\b\b\b\b\b\b\b\b\b                                            \b\b\b\b\b\b\b\b\b\b\b\b\b\b\b\b\b\b\b\b\b\b\b\b\b\b\b\b\b\b\b\b\b\b\b\b\b\b\b\b\b\b\b\bEverything is Ok\n",
            "\n",
            "Folders: 1\n",
            "Files: 21\n",
            "Size:       17385088\n",
            "Compressed: 11392107\n"
          ]
        }
      ]
    },
    {
      "cell_type": "code",
      "source": [
        "%cd .."
      ],
      "metadata": {
        "colab": {
          "base_uri": "https://localhost:8080/"
        },
        "id": "vugew2jyTUVW",
        "outputId": "9be43cff-cf8a-4ed7-be2c-1b0a6a7eea55"
      },
      "execution_count": null,
      "outputs": [
        {
          "output_type": "stream",
          "name": "stdout",
          "text": [
            "/content\n"
          ]
        }
      ]
    },
    {
      "cell_type": "code",
      "source": [
        "for i in range(1,3):\n",
        "    !rm -rf \"/content/Malicious_PE_samples/Malicious PE Samples {i}\"\n",
        "\n",
        "for i in range(1,7):\n",
        "     !rm -rf \"/content/Benign_PE_samples/Benign PE Samples {i}\""
      ],
      "metadata": {
        "id": "lkEs-MayTcfg"
      },
      "execution_count": null,
      "outputs": []
    },
    {
      "cell_type": "code",
      "source": [
        "!dir"
      ],
      "metadata": {
        "colab": {
          "base_uri": "https://localhost:8080/"
        },
        "id": "gA53E3b3ThVA",
        "outputId": "604b6b7d-acc8-4d63-bb1c-753f6f78a502"
      },
      "execution_count": null,
      "outputs": [
        {
          "output_type": "stream",
          "name": "stdout",
          "text": [
            "Benign_PE_samples\t     Benign\\ PE\\ Samples\\ 6.7z\n",
            "Benign\\ PE\\ Samples\\ 2.7z    Benign\\ PE\\ Samples\\ 6.7z.1\n",
            "Benign\\ PE\\ Samples\\ 2.7z.1  Malicious_PE_samples\n",
            "Benign\\ PE\\ Samples\\ 3.7z    Malicious\\ PE\\ Samples\\ 1.7z\n",
            "Benign\\ PE\\ Samples\\ 3.7z.1  Malicious\\ PE\\ Samples\\ 1.7z.1\n",
            "Benign\\ PE\\ Samples\\ 4.7z    Malicious\\ PE\\ Samples\\ 2.7z\n",
            "Benign\\ PE\\ Samples\\ 4.7z.1  Malicious\\ PE\\ Samples\\ 2.7z.1\n",
            "Benign\\ PE\\ Samples\\ 5.7z    sample_data\n",
            "Benign\\ PE\\ Samples\\ 5.7z.1\n"
          ]
        }
      ]
    },
    {
      "cell_type": "markdown",
      "source": [
        "# Build model the Malconv"
      ],
      "metadata": {
        "id": "jalgyOwUsDkc"
      }
    },
    {
      "cell_type": "code",
      "source": [
        "import numpy as np\n",
        "from tqdm import tqdm "
      ],
      "metadata": {
        "id": "mGY26gLosGe8"
      },
      "execution_count": null,
      "outputs": []
    },
    {
      "cell_type": "code",
      "source": [
        "def embed_bytes(byte):\n",
        "    binary_string = \"{0:08b}\".format(byte) \n",
        "    vec = np.zeros(8) \n",
        "    for i in range(8): \n",
        "        if binary_string[i] == \"1\":\n",
        "            vec[i] = float(1) / 16\n",
        "        else:\n",
        "            vec[i] = -float(1) / 16\n",
        "    return vec"
      ],
      "metadata": {
        "id": "OPBanrESsFTL"
      },
      "execution_count": null,
      "outputs": []
    },
    {
      "cell_type": "code",
      "source": [
        "#TRUYỀN DATA\n",
        "import os\n",
        "from os import listdir\n",
        "directories_with_labels = [(\"Benign_PE_samples\",0), (\"Malicious_PE_samples\",1)]\n",
        "list_of_samples = []\n",
        "labels = []\n",
        "for dataset_path, label in directories_with_labels:\n",
        "    samples = [f for f in listdir(dataset_path)]\n",
        "    for file in samples:\n",
        "        file_path = os.path.join(dataset_path, file) \n",
        "        list_of_samples.append(file_path)\n",
        "        labels.append(label)"
      ],
      "metadata": {
        "id": "KxDLgzvK8K9y"
      },
      "execution_count": null,
      "outputs": []
    },
    {
      "cell_type": "code",
      "source": [
        "def read_file(file_path):\n",
        "    with open(file_path, \"rb\") as binary_file:\n",
        "        return binary_file.read()"
      ],
      "metadata": {
        "id": "GM-C_W_t8T0Q"
      },
      "execution_count": null,
      "outputs": []
    },
    {
      "cell_type": "code",
      "source": [
        "max_size = 15000 \n",
        "num_samples = len(list_of_samples) \n",
        "X = np.zeros((num_samples, 8, max_size)) \n",
        "Y = np.asarray(labels) \n",
        "file_num = 0\n",
        "for file in tqdm(list_of_samples):\n",
        "    try:\n",
        "        sample_byte_sequence = read_file(file)\n",
        "        for i in range(min((max_size), len(sample_byte_sequence))):\n",
        "            X[file_num, :, i] = embed_bytes(sample_byte_sequence[i]) \n",
        "        file_num += 1\n",
        "    except Exception as e:\n",
        "        print(e)"
      ],
      "metadata": {
        "colab": {
          "base_uri": "https://localhost:8080/"
        },
        "id": "rYDu5tc58m8o",
        "outputId": "711c4519-9f78-4354-a095-04b1f05cecc2"
      },
      "execution_count": null,
      "outputs": [
        {
          "output_type": "stream",
          "name": "stderr",
          "text": [
            "100%|██████████| 336/336 [00:26<00:00, 12.69it/s]\n"
          ]
        }
      ]
    },
    {
      "cell_type": "markdown",
      "source": [
        "## Chia data"
      ],
      "metadata": {
        "id": "sIpPpiamQy02"
      }
    },
    {
      "cell_type": "code",
      "source": [
        "#chia data 1 cách ngẫu nhiên theo tỉ lệ 80 20 \n",
        "from sklearn.model_selection import train_test_split\n",
        "X_train, X_test, y_train, y_test = train_test_split(X, Y, test_size = 0.2)"
      ],
      "metadata": {
        "id": "IFESEjGoQ6EB"
      },
      "execution_count": null,
      "outputs": []
    },
    {
      "cell_type": "markdown",
      "source": [
        "## Huấn luyện mô hình"
      ],
      "metadata": {
        "id": "brSA2nARRTos"
      }
    },
    {
      "cell_type": "code",
      "source": [
        "from keras import optimizers\n"
      ],
      "metadata": {
        "id": "dLRsq2oKRZBu"
      },
      "execution_count": null,
      "outputs": []
    }
  ]
}