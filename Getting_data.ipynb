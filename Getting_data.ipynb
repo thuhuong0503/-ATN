{
  "nbformat": 4,
  "nbformat_minor": 0,
  "metadata": {
    "colab": {
      "provenance": []
    },
    "kernelspec": {
      "name": "python3",
      "display_name": "Python 3"
    },
    "language_info": {
      "name": "python"
    }
  },
  "cells": [
    {
      "cell_type": "code",
      "execution_count": 1,
      "metadata": {
        "colab": {
          "base_uri": "https://localhost:8080/"
        },
        "id": "oI_QxgrrK-DY",
        "outputId": "91e3cdd4-9b78-4fc0-ca07-42dd62152f90"
      },
      "outputs": [
        {
          "output_type": "stream",
          "name": "stdout",
          "text": [
            "--2023-03-27 03:46:59--  https://github.com/PacktPublishing/Machine-Learning-for-Cybersecurity-Cookbook/raw/master/PE%20Samples%20Dataset/Benign%20PE%20Samples%202.7z\n",
            "Resolving github.com (github.com)... 140.82.112.3\n",
            "Connecting to github.com (github.com)|140.82.112.3|:443... connected.\n",
            "HTTP request sent, awaiting response... 302 Found\n",
            "Location: https://raw.githubusercontent.com/PacktPublishing/Machine-Learning-for-Cybersecurity-Cookbook/master/PE%20Samples%20Dataset/Benign%20PE%20Samples%202.7z [following]\n",
            "--2023-03-27 03:46:59--  https://raw.githubusercontent.com/PacktPublishing/Machine-Learning-for-Cybersecurity-Cookbook/master/PE%20Samples%20Dataset/Benign%20PE%20Samples%202.7z\n",
            "Resolving raw.githubusercontent.com (raw.githubusercontent.com)... 185.199.108.133, 185.199.109.133, 185.199.110.133, ...\n",
            "Connecting to raw.githubusercontent.com (raw.githubusercontent.com)|185.199.108.133|:443... connected.\n",
            "HTTP request sent, awaiting response... 200 OK\n",
            "Length: 5759122 (5.5M) [application/octet-stream]\n",
            "Saving to: ‘Benign PE Samples 2.7z’\n",
            "\n",
            "Benign PE Samples 2 100%[===================>]   5.49M  --.-KB/s    in 0.08s   \n",
            "\n",
            "2023-03-27 03:46:59 (70.3 MB/s) - ‘Benign PE Samples 2.7z’ saved [5759122/5759122]\n",
            "\n",
            "--2023-03-27 03:47:00--  https://github.com/PacktPublishing/Machine-Learning-for-Cybersecurity-Cookbook/raw/master/PE%20Samples%20Dataset/Benign%20PE%20Samples%203.7z\n",
            "Resolving github.com (github.com)... 140.82.112.4\n",
            "Connecting to github.com (github.com)|140.82.112.4|:443... connected.\n",
            "HTTP request sent, awaiting response... 302 Found\n",
            "Location: https://raw.githubusercontent.com/PacktPublishing/Machine-Learning-for-Cybersecurity-Cookbook/master/PE%20Samples%20Dataset/Benign%20PE%20Samples%203.7z [following]\n",
            "--2023-03-27 03:47:00--  https://raw.githubusercontent.com/PacktPublishing/Machine-Learning-for-Cybersecurity-Cookbook/master/PE%20Samples%20Dataset/Benign%20PE%20Samples%203.7z\n",
            "Resolving raw.githubusercontent.com (raw.githubusercontent.com)... 185.199.109.133, 185.199.108.133, 185.199.111.133, ...\n",
            "Connecting to raw.githubusercontent.com (raw.githubusercontent.com)|185.199.109.133|:443... connected.\n",
            "HTTP request sent, awaiting response... 200 OK\n",
            "Length: 6295109 (6.0M) [application/octet-stream]\n",
            "Saving to: ‘Benign PE Samples 3.7z’\n",
            "\n",
            "Benign PE Samples 3 100%[===================>]   6.00M  --.-KB/s    in 0.08s   \n",
            "\n",
            "2023-03-27 03:47:00 (73.6 MB/s) - ‘Benign PE Samples 3.7z’ saved [6295109/6295109]\n",
            "\n",
            "--2023-03-27 03:47:00--  https://github.com/PacktPublishing/Machine-Learning-for-Cybersecurity-Cookbook/raw/master/PE%20Samples%20Dataset/Benign%20PE%20Samples%204.7z\n",
            "Resolving github.com (github.com)... 140.82.114.4\n",
            "Connecting to github.com (github.com)|140.82.114.4|:443... connected.\n",
            "HTTP request sent, awaiting response... 302 Found\n",
            "Location: https://raw.githubusercontent.com/PacktPublishing/Machine-Learning-for-Cybersecurity-Cookbook/master/PE%20Samples%20Dataset/Benign%20PE%20Samples%204.7z [following]\n",
            "--2023-03-27 03:47:01--  https://raw.githubusercontent.com/PacktPublishing/Machine-Learning-for-Cybersecurity-Cookbook/master/PE%20Samples%20Dataset/Benign%20PE%20Samples%204.7z\n",
            "Resolving raw.githubusercontent.com (raw.githubusercontent.com)... 185.199.108.133, 185.199.109.133, 185.199.110.133, ...\n",
            "Connecting to raw.githubusercontent.com (raw.githubusercontent.com)|185.199.108.133|:443... connected.\n",
            "HTTP request sent, awaiting response... 200 OK\n",
            "Length: 3782229 (3.6M) [application/octet-stream]\n",
            "Saving to: ‘Benign PE Samples 4.7z’\n",
            "\n",
            "Benign PE Samples 4 100%[===================>]   3.61M  --.-KB/s    in 0.07s   \n",
            "\n",
            "2023-03-27 03:47:01 (52.5 MB/s) - ‘Benign PE Samples 4.7z’ saved [3782229/3782229]\n",
            "\n",
            "--2023-03-27 03:47:01--  https://github.com/PacktPublishing/Machine-Learning-for-Cybersecurity-Cookbook/raw/master/PE%20Samples%20Dataset/Benign%20PE%20Samples%205.7z\n",
            "Resolving github.com (github.com)... 140.82.112.4\n",
            "Connecting to github.com (github.com)|140.82.112.4|:443... connected.\n",
            "HTTP request sent, awaiting response... 302 Found\n",
            "Location: https://raw.githubusercontent.com/PacktPublishing/Machine-Learning-for-Cybersecurity-Cookbook/master/PE%20Samples%20Dataset/Benign%20PE%20Samples%205.7z [following]\n",
            "--2023-03-27 03:47:01--  https://raw.githubusercontent.com/PacktPublishing/Machine-Learning-for-Cybersecurity-Cookbook/master/PE%20Samples%20Dataset/Benign%20PE%20Samples%205.7z\n",
            "Resolving raw.githubusercontent.com (raw.githubusercontent.com)... 185.199.108.133, 185.199.109.133, 185.199.110.133, ...\n",
            "Connecting to raw.githubusercontent.com (raw.githubusercontent.com)|185.199.108.133|:443... connected.\n",
            "HTTP request sent, awaiting response... 200 OK\n",
            "Length: 3144984 (3.0M) [application/octet-stream]\n",
            "Saving to: ‘Benign PE Samples 5.7z’\n",
            "\n",
            "Benign PE Samples 5 100%[===================>]   3.00M  --.-KB/s    in 0.07s   \n",
            "\n",
            "2023-03-27 03:47:02 (44.4 MB/s) - ‘Benign PE Samples 5.7z’ saved [3144984/3144984]\n",
            "\n",
            "--2023-03-27 03:47:02--  https://github.com/PacktPublishing/Machine-Learning-for-Cybersecurity-Cookbook/raw/master/PE%20Samples%20Dataset/Benign%20PE%20Samples%206.7z\n",
            "Resolving github.com (github.com)... 140.82.112.3\n",
            "Connecting to github.com (github.com)|140.82.112.3|:443... connected.\n",
            "HTTP request sent, awaiting response... 302 Found\n",
            "Location: https://raw.githubusercontent.com/PacktPublishing/Machine-Learning-for-Cybersecurity-Cookbook/master/PE%20Samples%20Dataset/Benign%20PE%20Samples%206.7z [following]\n",
            "--2023-03-27 03:47:02--  https://raw.githubusercontent.com/PacktPublishing/Machine-Learning-for-Cybersecurity-Cookbook/master/PE%20Samples%20Dataset/Benign%20PE%20Samples%206.7z\n",
            "Resolving raw.githubusercontent.com (raw.githubusercontent.com)... 185.199.109.133, 185.199.110.133, 185.199.111.133, ...\n",
            "Connecting to raw.githubusercontent.com (raw.githubusercontent.com)|185.199.109.133|:443... connected.\n",
            "HTTP request sent, awaiting response... 200 OK\n",
            "Length: 4802968 (4.6M) [application/octet-stream]\n",
            "Saving to: ‘Benign PE Samples 6.7z’\n",
            "\n",
            "Benign PE Samples 6 100%[===================>]   4.58M  --.-KB/s    in 0.08s   \n",
            "\n",
            "2023-03-27 03:47:03 (60.7 MB/s) - ‘Benign PE Samples 6.7z’ saved [4802968/4802968]\n",
            "\n",
            "--2023-03-27 03:47:03--  https://github.com/PacktPublishing/Machine-Learning-for-Cybersecurity-Cookbook/raw/master/PE%20Samples%20Dataset/Malicious%20PE%20Samples%201.7z\n",
            "Resolving github.com (github.com)... 140.82.114.4\n",
            "Connecting to github.com (github.com)|140.82.114.4|:443... connected.\n",
            "HTTP request sent, awaiting response... 302 Found\n",
            "Location: https://raw.githubusercontent.com/PacktPublishing/Machine-Learning-for-Cybersecurity-Cookbook/master/PE%20Samples%20Dataset/Malicious%20PE%20Samples%201.7z [following]\n",
            "--2023-03-27 03:47:03--  https://raw.githubusercontent.com/PacktPublishing/Machine-Learning-for-Cybersecurity-Cookbook/master/PE%20Samples%20Dataset/Malicious%20PE%20Samples%201.7z\n",
            "Resolving raw.githubusercontent.com (raw.githubusercontent.com)... 185.199.109.133, 185.199.110.133, 185.199.111.133, ...\n",
            "Connecting to raw.githubusercontent.com (raw.githubusercontent.com)|185.199.109.133|:443... connected.\n",
            "HTTP request sent, awaiting response... 200 OK\n",
            "Length: 23934383 (23M) [application/octet-stream]\n",
            "Saving to: ‘Malicious PE Samples 1.7z’\n",
            "\n",
            "Malicious PE Sample 100%[===================>]  22.83M   126MB/s    in 0.2s    \n",
            "\n",
            "2023-03-27 03:47:03 (126 MB/s) - ‘Malicious PE Samples 1.7z’ saved [23934383/23934383]\n",
            "\n",
            "--2023-03-27 03:47:04--  https://github.com/PacktPublishing/Machine-Learning-for-Cybersecurity-Cookbook/raw/master/PE%20Samples%20Dataset/Malicious%20PE%20Samples%202.7z\n",
            "Resolving github.com (github.com)... 140.82.112.4\n",
            "Connecting to github.com (github.com)|140.82.112.4|:443... connected.\n",
            "HTTP request sent, awaiting response... 302 Found\n",
            "Location: https://raw.githubusercontent.com/PacktPublishing/Machine-Learning-for-Cybersecurity-Cookbook/master/PE%20Samples%20Dataset/Malicious%20PE%20Samples%202.7z [following]\n",
            "--2023-03-27 03:47:04--  https://raw.githubusercontent.com/PacktPublishing/Machine-Learning-for-Cybersecurity-Cookbook/master/PE%20Samples%20Dataset/Malicious%20PE%20Samples%202.7z\n",
            "Resolving raw.githubusercontent.com (raw.githubusercontent.com)... 185.199.108.133, 185.199.109.133, 185.199.110.133, ...\n",
            "Connecting to raw.githubusercontent.com (raw.githubusercontent.com)|185.199.108.133|:443... connected.\n",
            "HTTP request sent, awaiting response... 200 OK\n",
            "Length: 11392107 (11M) [application/octet-stream]\n",
            "Saving to: ‘Malicious PE Samples 2.7z’\n",
            "\n",
            "Malicious PE Sample 100%[===================>]  10.86M  --.-KB/s    in 0.1s    \n",
            "\n",
            "2023-03-27 03:47:04 (95.8 MB/s) - ‘Malicious PE Samples 2.7z’ saved [11392107/11392107]\n",
            "\n"
          ]
        }
      ],
      "source": [
        "!wget https://github.com/PacktPublishing/Machine-Learning-for-Cybersecurity-Cookbook/raw/master/PE%20Samples%20Dataset/Benign%20PE%20Samples%202.7z\n",
        "!wget https://github.com/PacktPublishing/Machine-Learning-for-Cybersecurity-Cookbook/raw/master/PE%20Samples%20Dataset/Benign%20PE%20Samples%203.7z\n",
        "!wget https://github.com/PacktPublishing/Machine-Learning-for-Cybersecurity-Cookbook/raw/master/PE%20Samples%20Dataset/Benign%20PE%20Samples%204.7z\n",
        "!wget https://github.com/PacktPublishing/Machine-Learning-for-Cybersecurity-Cookbook/raw/master/PE%20Samples%20Dataset/Benign%20PE%20Samples%205.7z\n",
        "!wget https://github.com/PacktPublishing/Machine-Learning-for-Cybersecurity-Cookbook/raw/master/PE%20Samples%20Dataset/Benign%20PE%20Samples%206.7z\n",
        "!wget https://github.com/PacktPublishing/Machine-Learning-for-Cybersecurity-Cookbook/raw/master/PE%20Samples%20Dataset/Malicious%20PE%20Samples%201.7z\n",
        "!wget https://github.com/PacktPublishing/Machine-Learning-for-Cybersecurity-Cookbook/raw/master/PE%20Samples%20Dataset/Malicious%20PE%20Samples%202.7z"
      ]
    },
    {
      "cell_type": "code",
      "source": [
        "!dir"
      ],
      "metadata": {
        "colab": {
          "base_uri": "https://localhost:8080/"
        },
        "id": "7mWxaN5ELWwL",
        "outputId": "578052e2-abe0-400f-cf39-57975f539c25"
      },
      "execution_count": 3,
      "outputs": [
        {
          "output_type": "stream",
          "name": "stdout",
          "text": [
            "Benign\\ PE\\ Samples\\ 2.7z  Benign\\ PE\\ Samples\\ 6.7z\n",
            "Benign\\ PE\\ Samples\\ 3.7z  Malicious\\ PE\\ Samples\\ 1.7z\n",
            "Benign\\ PE\\ Samples\\ 4.7z  Malicious\\ PE\\ Samples\\ 2.7z\n",
            "Benign\\ PE\\ Samples\\ 5.7z  sample_data\n"
          ]
        }
      ]
    },
    {
      "cell_type": "code",
      "source": [
        "!apt install p7zip-full p7zip-rar -y "
      ],
      "metadata": {
        "colab": {
          "base_uri": "https://localhost:8080/"
        },
        "id": "1NEn7CBfLb_a",
        "outputId": "c9f42761-15b6-485f-aa0b-4bb556bb9f73"
      },
      "execution_count": 4,
      "outputs": [
        {
          "output_type": "stream",
          "name": "stdout",
          "text": [
            "Reading package lists... Done\n",
            "Building dependency tree       \n",
            "Reading state information... Done\n",
            "p7zip-full is already the newest version (16.02+dfsg-7build1).\n",
            "The following NEW packages will be installed:\n",
            "  p7zip-rar\n",
            "0 upgraded, 1 newly installed, 0 to remove and 23 not upgraded.\n",
            "Need to get 44.8 kB of archives.\n",
            "After this operation, 118 kB of additional disk space will be used.\n",
            "Get:1 http://archive.ubuntu.com/ubuntu focal/multiverse amd64 p7zip-rar amd64 16.02-3build1 [44.8 kB]\n",
            "Fetched 44.8 kB in 0s (196 kB/s)\n",
            "Selecting previously unselected package p7zip-rar.\n",
            "(Reading database ... 128285 files and directories currently installed.)\n",
            "Preparing to unpack .../p7zip-rar_16.02-3build1_amd64.deb ...\n",
            "Unpacking p7zip-rar (16.02-3build1) ...\n",
            "Setting up p7zip-rar (16.02-3build1) ...\n"
          ]
        }
      ]
    },
    {
      "cell_type": "code",
      "source": [
        "!mkdir Benign_PE_samples\n",
        "!mkdir Malicious_PE_samples"
      ],
      "metadata": {
        "id": "tDDeaq_BS_Pi"
      },
      "execution_count": 5,
      "outputs": []
    },
    {
      "cell_type": "code",
      "source": [
        "%cd Benign_PE_samples/"
      ],
      "metadata": {
        "colab": {
          "base_uri": "https://localhost:8080/"
        },
        "id": "60ufh8CNTGDg",
        "outputId": "13f54d03-5f6e-48a0-af16-2159ebcee5e5"
      },
      "execution_count": 6,
      "outputs": [
        {
          "output_type": "stream",
          "name": "stdout",
          "text": [
            "/content/Benign_PE_samples\n"
          ]
        }
      ]
    },
    {
      "cell_type": "code",
      "source": [
        "for i in range(1,7):\n",
        "  !7z e -y ../Benign\\ PE\\ Samples\\ {i}.7z \n",
        "  #giải nén tệp PE không chứa mã độc"
      ],
      "metadata": {
        "colab": {
          "base_uri": "https://localhost:8080/"
        },
        "id": "CjDSRf14THpY",
        "outputId": "8ad4762c-4448-416e-d653-c89530fe549d"
      },
      "execution_count": 7,
      "outputs": [
        {
          "output_type": "stream",
          "name": "stdout",
          "text": [
            "\n",
            "7-Zip [64] 16.02 : Copyright (c) 1999-2016 Igor Pavlov : 2016-05-21\n",
            "p7zip Version 16.02 (locale=en_US.UTF-8,Utf16=on,HugeFiles=on,64 bits,2 CPUs Intel(R) Xeon(R) CPU @ 2.20GHz (406F0),ASM,AES-NI)\n",
            "\n",
            "Scanning the drive for archives:\n",
            "  0M Scan ../\b\b\b\b\b\b\b\b\b\b\b\b\b             \b\b\b\b\b\b\b\b\b\b\b\b\b\n",
            "ERROR: No more files\n",
            "../Benign PE Samples 1.7z\n",
            "\n",
            "\n",
            "\n",
            "System ERROR:\n",
            "Unknown error -2147024872\n",
            "\n",
            "7-Zip [64] 16.02 : Copyright (c) 1999-2016 Igor Pavlov : 2016-05-21\n",
            "p7zip Version 16.02 (locale=en_US.UTF-8,Utf16=on,HugeFiles=on,64 bits,2 CPUs Intel(R) Xeon(R) CPU @ 2.20GHz (406F0),ASM,AES-NI)\n",
            "\n",
            "Scanning the drive for archives:\n",
            "  0M Scan ../\b\b\b\b\b\b\b\b\b\b\b\b\b             \b\b\b\b\b\b\b\b\b\b\b\b\b1 file, 5759122 bytes (5625 KiB)\n",
            "\n",
            "Extracting archive: ../Benign PE Samples 2.7z\n",
            "--\n",
            "Path = ../Benign PE Samples 2.7z\n",
            "Type = 7z\n",
            "Physical Size = 5759122\n",
            "Headers Size = 2005\n",
            "Method = LZMA2:24 BCJ\n",
            "Solid = +\n",
            "Blocks = 1\n",
            "\n",
            "  0%\b\b\b\b    \b\b\b\b 30% 36 - Benign PE Samples 2/conhost.exe\b\b\b\b\b\b\b\b\b\b\b\b\b\b\b\b\b\b\b\b\b\b\b\b\b\b\b\b\b\b\b\b\b\b\b\b\b\b\b\b\b                                         \b\b\b\b\b\b\b\b\b\b\b\b\b\b\b\b\b\b\b\b\b\b\b\b\b\b\b\b\b\b\b\b\b\b\b\b\b\b\b\b\b 67% 61 - Benign PE Samples 2/dcdiag.exe\b\b\b\b\b\b\b\b\b\b\b\b\b\b\b\b\b\b\b\b\b\b\b\b\b\b\b\b\b\b\b\b\b\b\b\b\b\b\b\b                                        \b\b\b\b\b\b\b\b\b\b\b\b\b\b\b\b\b\b\b\b\b\b\b\b\b\b\b\b\b\b\b\b\b\b\b\b\b\b\b\bEverything is Ok\n",
            "\n",
            "Folders: 1\n",
            "Files: 97\n",
            "Size:       17177931\n",
            "Compressed: 5759122\n",
            "\n",
            "7-Zip [64] 16.02 : Copyright (c) 1999-2016 Igor Pavlov : 2016-05-21\n",
            "p7zip Version 16.02 (locale=en_US.UTF-8,Utf16=on,HugeFiles=on,64 bits,2 CPUs Intel(R) Xeon(R) CPU @ 2.20GHz (406F0),ASM,AES-NI)\n",
            "\n",
            "Scanning the drive for archives:\n",
            "  0M Scan ../\b\b\b\b\b\b\b\b\b\b\b\b\b             \b\b\b\b\b\b\b\b\b\b\b\b\b1 file, 6295109 bytes (6148 KiB)\n",
            "\n",
            "Extracting archive: ../Benign PE Samples 3.7z\n",
            "--\n",
            "Path = ../Benign PE Samples 3.7z\n",
            "Type = 7z\n",
            "Physical Size = 6295109\n",
            "Headers Size = 1224\n",
            "Method = LZMA2:24 BCJ\n",
            "Solid = +\n",
            "Blocks = 1\n",
            "\n",
            "  0%\b\b\b\b    \b\b\b\b 39% 15 - Benign PE Samples 3/fltMC.exe\b\b\b\b\b\b\b\b\b\b\b\b\b\b\b\b\b\b\b\b\b\b\b\b\b\b\b\b\b\b\b\b\b\b\b\b\b\b\b                                       \b\b\b\b\b\b\b\b\b\b\b\b\b\b\b\b\b\b\b\b\b\b\b\b\b\b\b\b\b\b\b\b\b\b\b\b\b\b\b 79% 34 - Benign PE Samples 3/GenValObj.exe\b\b\b\b\b\b\b\b\b\b\b\b\b\b\b\b\b\b\b\b\b\b\b\b\b\b\b\b\b\b\b\b\b\b\b\b\b\b\b\b\b\b\b                                           \b\b\b\b\b\b\b\b\b\b\b\b\b\b\b\b\b\b\b\b\b\b\b\b\b\b\b\b\b\b\b\b\b\b\b\b\b\b\b\b\b\b\bEverything is Ok\n",
            "\n",
            "Folders: 1\n",
            "Files: 51\n",
            "Size:       21010393\n",
            "Compressed: 6295109\n",
            "\n",
            "7-Zip [64] 16.02 : Copyright (c) 1999-2016 Igor Pavlov : 2016-05-21\n",
            "p7zip Version 16.02 (locale=en_US.UTF-8,Utf16=on,HugeFiles=on,64 bits,2 CPUs Intel(R) Xeon(R) CPU @ 2.20GHz (406F0),ASM,AES-NI)\n",
            "\n",
            "Scanning the drive for archives:\n",
            "  0M Scan ../\b\b\b\b\b\b\b\b\b\b\b\b\b             \b\b\b\b\b\b\b\b\b\b\b\b\b1 file, 3782229 bytes (3694 KiB)\n",
            "\n",
            "Extracting archive: ../Benign PE Samples 4.7z\n",
            "--\n",
            "Path = ../Benign PE Samples 4.7z\n",
            "Type = 7z\n",
            "Physical Size = 3782229\n",
            "Headers Size = 1182\n",
            "Method = LZMA2:12m BCJ\n",
            "Solid = +\n",
            "Blocks = 1\n",
            "\n",
            "  0%\b\b\b\b    \b\b\b\b 57% 37 - Benign PE Samples 4/eudcedit.exe\b\b\b\b\b\b\b\b\b\b\b\b\b\b\b\b\b\b\b\b\b\b\b\b\b\b\b\b\b\b\b\b\b\b\b\b\b\b\b\b\b\b                                          \b\b\b\b\b\b\b\b\b\b\b\b\b\b\b\b\b\b\b\b\b\b\b\b\b\b\b\b\b\b\b\b\b\b\b\b\b\b\b\b\b\bEverything is Ok\n",
            "\n",
            "Folders: 1\n",
            "Files: 46\n",
            "Size:       10973411\n",
            "Compressed: 3782229\n",
            "\n",
            "7-Zip [64] 16.02 : Copyright (c) 1999-2016 Igor Pavlov : 2016-05-21\n",
            "p7zip Version 16.02 (locale=en_US.UTF-8,Utf16=on,HugeFiles=on,64 bits,2 CPUs Intel(R) Xeon(R) CPU @ 2.20GHz (406F0),ASM,AES-NI)\n",
            "\n",
            "Scanning the drive for archives:\n",
            "  0M Scan ../\b\b\b\b\b\b\b\b\b\b\b\b\b             \b\b\b\b\b\b\b\b\b\b\b\b\b1 file, 3144984 bytes (3072 KiB)\n",
            "\n",
            "Extracting archive: ../Benign PE Samples 5.7z\n",
            "--\n",
            "Path = ../Benign PE Samples 5.7z\n",
            "Type = 7z\n",
            "Physical Size = 3144984\n",
            "Headers Size = 1165\n",
            "Method = LZMA2:24 BCJ\n",
            "Solid = +\n",
            "Blocks = 1\n",
            "\n",
            "  0%\b\b\b\b    \b\b\b\b 60% 29 - Benign PE Samples 5/Calculator.exe\b\b\b\b\b\b\b\b\b\b\b\b\b\b\b\b\b\b\b\b\b\b\b\b\b\b\b\b\b\b\b\b\b\b\b\b\b\b\b\b\b\b\b\b                                            \b\b\b\b\b\b\b\b\b\b\b\b\b\b\b\b\b\b\b\b\b\b\b\b\b\b\b\b\b\b\b\b\b\b\b\b\b\b\b\b\b\b\b\bEverything is Ok\n",
            "\n",
            "Folders: 1\n",
            "Files: 45\n",
            "Size:       12933478\n",
            "Compressed: 3144984\n",
            "\n",
            "7-Zip [64] 16.02 : Copyright (c) 1999-2016 Igor Pavlov : 2016-05-21\n",
            "p7zip Version 16.02 (locale=en_US.UTF-8,Utf16=on,HugeFiles=on,64 bits,2 CPUs Intel(R) Xeon(R) CPU @ 2.20GHz (406F0),ASM,AES-NI)\n",
            "\n",
            "Scanning the drive for archives:\n",
            "  0M Scan ../\b\b\b\b\b\b\b\b\b\b\b\b\b             \b\b\b\b\b\b\b\b\b\b\b\b\b1 file, 4802968 bytes (4691 KiB)\n",
            "\n",
            "Extracting archive: ../Benign PE Samples 6.7z\n",
            "--\n",
            "Path = ../Benign PE Samples 6.7z\n",
            "Type = 7z\n",
            "Physical Size = 4802968\n",
            "Headers Size = 1312\n",
            "Method = LZMA2:24 BCJ\n",
            "Solid = +\n",
            "Blocks = 1\n",
            "\n",
            "  0%\b\b\b\b    \b\b\b\b 28% 8 - Benign PE Samples 6/aitstatic.exe\b\b\b\b\b\b\b\b\b\b\b\b\b\b\b\b\b\b\b\b\b\b\b\b\b\b\b\b\b\b\b\b\b\b\b\b\b\b\b\b\b\b                                          \b\b\b\b\b\b\b\b\b\b\b\b\b\b\b\b\b\b\b\b\b\b\b\b\b\b\b\b\b\b\b\b\b\b\b\b\b\b\b\b\b\b 78% 36 - Benign PE Samples 6/at.exe\b\b\b\b\b\b\b\b\b\b\b\b\b\b\b\b\b\b\b\b\b\b\b\b\b\b\b\b\b\b\b\b\b\b\b\b                                    \b\b\b\b\b\b\b\b\b\b\b\b\b\b\b\b\b\b\b\b\b\b\b\b\b\b\b\b\b\b\b\b\b\b\b\bEverything is Ok\n",
            "\n",
            "Folders: 1\n",
            "Files: 50\n",
            "Size:       17383594\n",
            "Compressed: 4802968\n"
          ]
        }
      ]
    },
    {
      "cell_type": "code",
      "source": [
        "%cd ../Malicious_PE_samples/"
      ],
      "metadata": {
        "colab": {
          "base_uri": "https://localhost:8080/"
        },
        "id": "71X0sj5dTMiA",
        "outputId": "5c4ebcdb-d0bf-412f-9ca9-b3e4b876c574"
      },
      "execution_count": 8,
      "outputs": [
        {
          "output_type": "stream",
          "name": "stdout",
          "text": [
            "/content/Malicious_PE_samples\n"
          ]
        }
      ]
    },
    {
      "cell_type": "code",
      "source": [
        "for i in range(1,3):\n",
        "  !7z e -y ../Malicious\\ PE\\ Samples\\ {i}.7z -pinfected"
      ],
      "metadata": {
        "colab": {
          "base_uri": "https://localhost:8080/"
        },
        "id": "ThnxUu3DTQkw",
        "outputId": "183b04ac-6bd7-4446-c7cb-82b56706fa78"
      },
      "execution_count": 9,
      "outputs": [
        {
          "output_type": "stream",
          "name": "stdout",
          "text": [
            "\n",
            "7-Zip [64] 16.02 : Copyright (c) 1999-2016 Igor Pavlov : 2016-05-21\n",
            "p7zip Version 16.02 (locale=en_US.UTF-8,Utf16=on,HugeFiles=on,64 bits,2 CPUs Intel(R) Xeon(R) CPU @ 2.20GHz (406F0),ASM,AES-NI)\n",
            "\n",
            "Scanning the drive for archives:\n",
            "  0M Scan ../\b\b\b\b\b\b\b\b\b\b\b\b\b             \b\b\b\b\b\b\b\b\b\b\b\b\b1 file, 23934383 bytes (23 MiB)\n",
            "\n",
            "Extracting archive: ../Malicious PE Samples 1.7z\n",
            "--\n",
            "Path = ../Malicious PE Samples 1.7z\n",
            "Type = 7z\n",
            "Physical Size = 23934383\n",
            "Headers Size = 959\n",
            "Method = LZMA2:24 BCJ 7zAES\n",
            "Solid = +\n",
            "Blocks = 1\n",
            "\n",
            "  0%\b\b\b\b    \b\b\b\b 18% 5 - Malicious PE Samples 1/InstallBC201401.exe\b\b\b\b\b\b\b\b\b\b\b\b\b\b\b\b\b\b\b\b\b\b\b\b\b\b\b\b\b\b\b\b\b\b\b\b\b\b\b\b\b\b\b\b\b\b\b\b\b\b\b                                                   \b\b\b\b\b\b\b\b\b\b\b\b\b\b\b\b\b\b\b\b\b\b\b\b\b\b\b\b\b\b\b\b\b\b\b\b\b\b\b\b\b\b\b\b\b\b\b\b\b\b\b 73% 15 - Malicious PE Samples 1/svchost.exe\b\b\b\b\b\b\b\b\b\b\b\b\b\b\b\b\b\b\b\b\b\b\b\b\b\b\b\b\b\b\b\b\b\b\b\b\b\b\b\b\b\b\b\b                                            \b\b\b\b\b\b\b\b\b\b\b\b\b\b\b\b\b\b\b\b\b\b\b\b\b\b\b\b\b\b\b\b\b\b\b\b\b\b\b\b\b\b\b\bEverything is Ok\n",
            "\n",
            "Folders: 1\n",
            "Files: 26\n",
            "Size:       30470108\n",
            "Compressed: 23934383\n",
            "\n",
            "7-Zip [64] 16.02 : Copyright (c) 1999-2016 Igor Pavlov : 2016-05-21\n",
            "p7zip Version 16.02 (locale=en_US.UTF-8,Utf16=on,HugeFiles=on,64 bits,2 CPUs Intel(R) Xeon(R) CPU @ 2.20GHz (406F0),ASM,AES-NI)\n",
            "\n",
            "Scanning the drive for archives:\n",
            "  0M Scan ../\b\b\b\b\b\b\b\b\b\b\b\b\b             \b\b\b\b\b\b\b\b\b\b\b\b\b1 file, 11392107 bytes (11 MiB)\n",
            "\n",
            "Extracting archive: ../Malicious PE Samples 2.7z\n",
            "--\n",
            "Path = ../Malicious PE Samples 2.7z\n",
            "Type = 7z\n",
            "Physical Size = 11392107\n",
            "Headers Size = 875\n",
            "Method = LZMA2:24 BCJ 7zAES\n",
            "Solid = +\n",
            "Blocks = 1\n",
            "\n",
            "  0%\b\b\b\b    \b\b\b\b 18% 5 - Malicious PE Samples 2/21.exe\b\b\b\b\b\b\b\b\b\b\b\b\b\b\b\b\b\b\b\b\b\b\b\b\b\b\b\b\b\b\b\b\b\b\b\b\b\b                                      \b\b\b\b\b\b\b\b\b\b\b\b\b\b\b\b\b\b\b\b\b\b\b\b\b\b\b\b\b\b\b\b\b\b\b\b\b\b 80% 20 - Malicious PE Samples 2/gchrome.exe\b\b\b\b\b\b\b\b\b\b\b\b\b\b\b\b\b\b\b\b\b\b\b\b\b\b\b\b\b\b\b\b\b\b\b\b\b\b\b\b\b\b\b\b                                            \b\b\b\b\b\b\b\b\b\b\b\b\b\b\b\b\b\b\b\b\b\b\b\b\b\b\b\b\b\b\b\b\b\b\b\b\b\b\b\b\b\b\b\b 96% 21 - Malicious PE Samples 2/{71257279-042b-371d-a1d3-fbf8d2fadffa}.exe\b\b\b\b\b\b\b\b\b\b\b\b\b\b\b\b\b\b\b\b\b\b\b\b\b\b\b\b\b\b\b\b\b\b\b\b\b\b\b\b\b\b\b\b\b\b\b\b\b\b\b\b\b\b\b\b\b\b\b\b\b\b\b\b\b\b\b\b\b\b\b\b\b\b\b                                                                           \b\b\b\b\b\b\b\b\b\b\b\b\b\b\b\b\b\b\b\b\b\b\b\b\b\b\b\b\b\b\b\b\b\b\b\b\b\b\b\b\b\b\b\b\b\b\b\b\b\b\b\b\b\b\b\b\b\b\b\b\b\b\b\b\b\b\b\b\b\b\b\b\b\b\bEverything is Ok\n",
            "\n",
            "Folders: 1\n",
            "Files: 21\n",
            "Size:       17385088\n",
            "Compressed: 11392107\n"
          ]
        }
      ]
    },
    {
      "cell_type": "code",
      "source": [
        "%cd .."
      ],
      "metadata": {
        "colab": {
          "base_uri": "https://localhost:8080/"
        },
        "id": "vugew2jyTUVW",
        "outputId": "b64f46b5-600e-4b53-b50c-05e0be151cf7"
      },
      "execution_count": 10,
      "outputs": [
        {
          "output_type": "stream",
          "name": "stdout",
          "text": [
            "/content\n"
          ]
        }
      ]
    },
    {
      "cell_type": "code",
      "source": [
        "for i in range(1,3):\n",
        "    !rm -rf \"/content/Malicious_PE_samples/Malicious PE Samples {i}\"\n",
        "\n",
        "for i in range(1,7):\n",
        "     !rm -rf \"/content/Benign_PE_samples/Benign PE Samples {i}\""
      ],
      "metadata": {
        "id": "lkEs-MayTcfg"
      },
      "execution_count": 11,
      "outputs": []
    },
    {
      "cell_type": "code",
      "source": [
        "!dir"
      ],
      "metadata": {
        "colab": {
          "base_uri": "https://localhost:8080/"
        },
        "id": "gA53E3b3ThVA",
        "outputId": "91d2869c-3469-4d29-cff4-a5b5a3a24110"
      },
      "execution_count": 12,
      "outputs": [
        {
          "output_type": "stream",
          "name": "stdout",
          "text": [
            "Benign_PE_samples\t   Benign\\ PE\\ Samples\\ 6.7z\n",
            "Benign\\ PE\\ Samples\\ 2.7z  Malicious_PE_samples\n",
            "Benign\\ PE\\ Samples\\ 3.7z  Malicious\\ PE\\ Samples\\ 1.7z\n",
            "Benign\\ PE\\ Samples\\ 4.7z  Malicious\\ PE\\ Samples\\ 2.7z\n",
            "Benign\\ PE\\ Samples\\ 5.7z  sample_data\n"
          ]
        }
      ]
    },
    {
      "cell_type": "markdown",
      "source": [],
      "metadata": {
        "id": "_LHNHmkKLF7z"
      }
    }
  ]
}